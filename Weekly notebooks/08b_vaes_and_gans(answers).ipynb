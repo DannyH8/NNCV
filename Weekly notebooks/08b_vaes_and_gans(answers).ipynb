{
 "cells": [
  {
   "cell_type": "markdown",
   "metadata": {},
   "source": [
    "# Week 8: Generative Models\n",
    "\n",
    "Welcome to this Week 8 hands-on tutorial! In this notebook, we’ll explore how to train Variational Autoencoders (VAEs) and Generative Adversarial Networks (GANs) using **PyTorch**. These models are powerful tools for generating new data samples and learning complex data distributions.\n",
    "\n",
    "For this task, we will build and train both a **VAE** and a **GAN**:\n",
    "\n",
    "- **Variational Autoencoder (VAE)**: A probabilistic model that represents input data in a latent space by learning both reconstruction and a prior distribution, useful for generative modeling.  \n",
    "  - **Encoder**: Maps input data to the parameters (mean and variance) of a latent probability distribution.  \n",
    "  - **Decoder**: Reconstructs data from samples drawn from the latent distribution.  \n",
    "  - **Latent Space**: A probabilistic representation of the data distribution that allows for structured sampling and interpolation.  \n",
    "\n",
    "\n",
    "- **Generative Adversarial Network (GAN)**: Consists of two neural networks, a generator and a discriminator, that compete against each other. The generator creates fake data samples, while the discriminator tries to distinguish between real and fake samples.\n",
    "  - **Generator**: Generates new data samples from random noise.\n",
    "  - **Discriminator**: Classifies data samples as real or fake.\n",
    "  - **Adversarial Training**: The generator and discriminator are trained simultaneously, improving each other’s performance.\n",
    "\n",
    "By the end of this notebook, you’ll understand how to:\n",
    "1. Preprocess data for training VAEs and GANs.\n",
    "2. Build and train a VAE using PyTorch.\n",
    "3. Build and train a GAN using PyTorch.\n",
    "4. Generate new data samples.\n",
    "\n",
    "Let’s dive in and start building!"
   ]
  },
  {
   "cell_type": "markdown",
   "metadata": {},
   "source": [
    "## Variational Autoncoder"
   ]
  },
  {
   "cell_type": "markdown",
   "metadata": {},
   "source": [
    "### Step 1: Import libraries and load the MNIST dataset\n",
    "\n",
    "In this step, we’ll prepare our tools and data to kickstart the project. First, we’ll import the necessary libraries that make it possible to handle data, build and train neural networks, and visualize results effectively. \n",
    "\n",
    "Next, we’ll load the **MNIST dataset** using `torchvision`. As a quick refresher, the MNIST dataset contains 70,000 grayscale images (28x28 pixels) of handwritten digits, distributed across 10 classes (digits 0 through 9). Each class has a varying number of images, providing a diverse dataset for training.\n",
    "\n",
    "To reduce computational requirements, we’ll **resize** the images and **flatten** them. Resizing adjusts the dimensions of the images, and flattening converts the 2D images into 1D vectors, making it easier for the model to process and speeding up the training process."
   ]
  },
  {
   "cell_type": "code",
   "execution_count": 1,
   "metadata": {},
   "outputs": [
    {
     "name": "stderr",
     "output_type": "stream",
     "text": [
      "c:\\Users\\20236095\\disconet\\.venv\\lib\\site-packages\\tqdm\\auto.py:21: TqdmWarning: IProgress not found. Please update jupyter and ipywidgets. See https://ipywidgets.readthedocs.io/en/stable/user_install.html\n",
      "  from .autonotebook import tqdm as notebook_tqdm\n"
     ]
    }
   ],
   "source": [
    "import torch\n",
    "from torch import nn\n",
    "import matplotlib.pyplot as plt\n",
    "from tqdm import tqdm, trange\n",
    "from torch.utils.data import DataLoader\n",
    "from torchvision import datasets, transforms\n",
    "from torchvision.utils import make_grid"
   ]
  },
  {
   "cell_type": "code",
   "execution_count": null,
   "metadata": {},
   "outputs": [
    {
     "data": {
      "image/png": "[encoded data removed]",
      "text/plain": [
       "<Figure size 600x600 with 1 Axes>"
      ]
     },
     "metadata": {},
     "output_type": "display_data"
    }
   ],
   "source": [
    "transform = transforms.Compose([\n",
    "    transforms.ToTensor(),\n",
    "    transforms.Resize((14, 14), interpolation=0),\n",
    "    transforms.Normalize((0.5,), (0.5,)),\n",
    "    transforms.Lambda(lambda x: x.view(-1))\n",
    "])\n",
    "\n",
    "train_dataset = datasets.MNIST(\n",
    "    root='./data', \n",
    "    train=True,\n",
    "    download=True, \n",
    "    transform=transform\n",
    ")\n",
    "\n",
    "train_dataloader = DataLoader(\n",
    "    train_dataset, \n",
    "    batch_size=128,\n",
    "    shuffle=True, \n",
    "    num_workers=0\n",
    ")\n",
    "\n",
    "\n",
    "def plot_dataset(X, **kwargs):\n",
    "    '''\n",
    "    Plot a 2D dataset.\n",
    "    Args:\n",
    "        X: torch.Tensor: The images to plot.\n",
    "        **kwargs: dict: Additional keyword arguments to pass to `ax.set`.\n",
    "    '''\n",
    "    # reshape the data to 14x14 images\n",
    "    X = X.view(-1, 14, 14)\n",
    "    # get 16 samples from the batch\n",
    "    X = X[:16].unsqueeze(1)\n",
    "    # make a grid of the images\n",
    "    grid = make_grid(X, nrow=4, normalize=True)\n",
    "    # plot the image grid\n",
    "    plt.imshow(grid.permute(1, 2, 0).numpy())\n",
    "    plt.axis('off')\n",
    "    if kwargs.get('title', None):\n",
    "        plt.title(kwargs.get('title', ''))\n",
    "    plt.show()\n",
    "\n",
    "\n",
    "# Plot images from the dataset\n",
    "X, _ = next(iter(train_dataloader))\n",
    "fig = plt.figure(figsize=(6, 6))\n",
    "plot_dataset(X, title='MNIST Dataset')"
   ]
  },
  {
   "cell_type": "markdown",
   "metadata": {
    "vscode": {
     "languageId": "markdown"
    }
   },
   "source": [
    "### Step 2: Building the VAE Components\n",
    "\n",
    "In this step, we will build and implement the core components of a Variational Autoencoder (VAE): the encoder, the decoder, and the reparametrization trick.\n",
    "\n",
    "#### Encoder\n",
    "The encoder compresses the input data into a latent representation. It consists of several layers that reduce the dimensionality of the input data.\n",
    "\n",
    "#### Decoder\n",
    "The decoder reconstructs the data from the latent representation. It consists of several layers that expand the latent representation back to the original data dimensions.\n",
    "\n",
    "#### Reparametrization Trick\n",
    "The reparametrization trick allows us to sample from the latent space distribution using the mean and log variance estimated from the features extracted by the encoder. This trick ensures that the gradient can flow through the sampling process during backpropagation.\n",
    "\n",
    "The reparametrization trick is defined as:\n",
    "$$ z = \\mu + \\sigma \\cdot \\epsilon $$\n",
    "where:\n",
    "- $ \\mu $ is the mean estimated by the encoder.\n",
    "- $ \\sigma $ is the standard deviation, computed as $ \\sigma = \\exp(\\frac{1}{2} \\cdot \\text{logvar}) $.\n",
    "- $ \\epsilon $ is a random noise vector sampled from a standard normal distribution."
   ]
  },
  {
   "cell_type": "code",
   "execution_count": 5,
   "metadata": {},
   "outputs": [],
   "source": [
    "class Block(nn.Module):\n",
    "    def __init__(self, in_features, out_features, normalize=False):\n",
    "        '''\n",
    "        Create a block of an MLP.\n",
    "        Args:\n",
    "            in_features: int: The number of input features.\n",
    "            out_features: int: The number of output features.\n",
    "            normalize: bool: Whether to apply batch normalization.\n",
    "        '''\n",
    "        super().__init__()\n",
    "        layers = [nn.Linear(in_features, out_features)]\n",
    "        if normalize:\n",
    "            layers.append(nn.BatchNorm1d(out_features, 0.8))\n",
    "        layers.append(nn.ReLU(inplace=True))\n",
    "        self.block = nn.Sequential(*layers)\n",
    "\n",
    "    def forward(self, X):\n",
    "        '''\n",
    "        Forward pass of the model.\n",
    "        Args:\n",
    "            X: torch.Tensor: The input features.\n",
    "        Returns:\n",
    "            torch.Tensor: The output features.\n",
    "        '''\n",
    "        return self.block(X)\n",
    "\n",
    "class Encoder(nn.Module):\n",
    "    def __init__(self, image_size=14):\n",
    "        '''\n",
    "        Create an MLP to generate samples from a latent space.\n",
    "        Args:\n",
    "            image_size: int: The size of the images.\n",
    "        '''\n",
    "        super().__init__()\n",
    "\n",
    "        \n",
    "        self.model = nn.Sequential(\n",
    "            Block(image_size*image_size, 32, normalize=False),\n",
    "            Block(32, 64),\n",
    "            Block(64, 128),\n",
    "        )\n",
    "\n",
    "\n",
    "    def forward(self, X):\n",
    "        '''\n",
    "        Forward pass of the model.\n",
    "        Args:\n",
    "            X: torch.Tensor: The input features.\n",
    "        Returns:\n",
    "            torch.Tensor: The encoded features.\n",
    "        '''\n",
    "        X = self.model(X)\n",
    "        return X\n",
    "    \n",
    "class Decoder(nn.Module):\n",
    "    def __init__(self, image_size=14, latent_dim=16):\n",
    "        '''\n",
    "        Create an MLP to generate samples from a latent space.\n",
    "        Args:\n",
    "            image_size: int: The size of the images.\n",
    "            latent_dim: int: The dimensionality of the latent space.\n",
    "        '''\n",
    "        super().__init__()\n",
    "\n",
    "        self.model = nn.Sequential(\n",
    "            Block(latent_dim, 128),\n",
    "            Block(128, 64),\n",
    "            Block(64, 32),\n",
    "            nn.Linear(32, image_size*image_size),\n",
    "            nn.Tanh()\n",
    "        )\n",
    "\n",
    "    def forward(self, X):\n",
    "        '''\n",
    "        Forward pass of the model.\n",
    "        Args:\n",
    "            X: torch.Tensor: The input features.\n",
    "        Returns:\n",
    "            torch.Tensor: The generated samples.\n",
    "        '''\n",
    "        X = self.model(X)\n",
    "        return X\n",
    "    \n",
    "class VariationalAutoEncoder(nn.Module):\n",
    "    def __init__(self, image_size=14, latent_dim=8):\n",
    "        '''\n",
    "        Create a VAE.\n",
    "        Args:\n",
    "            image_size: int: The size of the images.\n",
    "            latent_dim: int: The dimensionality of the latent space.\n",
    "        '''\n",
    "        super().__init__()\n",
    "        self.encoder = Encoder(image_size)\n",
    "        self.mu = nn.Linear(128, latent_dim)\n",
    "        self.logvar = nn.Linear(128, latent_dim)\n",
    "        self.decoder = Decoder(image_size, latent_dim)\n",
    "        self.latent_dim = latent_dim\n",
    "\n",
    "    def forward(self, X):\n",
    "        '''\n",
    "        Forward pass of the model.\n",
    "        Args:\n",
    "            X: torch.Tensor: The input features.\n",
    "        Returns:\n",
    "            X: torch.Tensor: The generated samples.\n",
    "            mu: torch.Tensor: The mean of the latent space.\n",
    "            logvar: torch.Tensor: The log variance of the latent space.\n",
    "        '''\n",
    "        X = self.encoder(X)\n",
    "        mu = self.mu(X)\n",
    "        logvar = self.logvar(X)\n",
    "        std = torch.exp(0.5*logvar)\n",
    "        eps = torch.randn_like(std)\n",
    "        X = mu + eps*std\n",
    "        X = self.decoder(X)\n",
    "        return X, mu, logvar"
   ]
  },
  {
   "cell_type": "markdown",
   "metadata": {},
   "source": [
    "### Step 3: Defining the Loss Functions and Training the VAE\n",
    "\n",
    "In this step, we will define the loss functions required to train the VAE: the KL divergence loss and the global VAE loss (Evidence Lower Bound, ELBO). We will then train the model using these loss functions.\n",
    "\n",
    "### KL Divergence\n",
    "The KL divergence loss measures the difference between the learned latent distribution and a standard normal distribution. It ensures that the latent space follows a normal distribution, which is crucial for generating new data samples.\n",
    "\n",
    "The KL divergence for a single data point can be determined using\n",
    "$$ \\mathcal{L}_{\\text{KL}} = \\frac{1}{2} \\sum(1 + \\text{logvar} - \\mu^2 - \\exp(\\text{logvar})) $$\n",
    "\n",
    "### Reconstruction Loss\n",
    "The reconstruction loss measures how well the decoder can reconstruct the input data from the latent representation. It is typically defined as the mean squared error (MSE) or binary cross-entropy (BCE) between the input and the reconstructed output.\n",
    "\n",
    "### Global VAE Loss (ELBO)\n",
    "The global VAE loss, also known as the Evidence Lower Bound (ELBO), combines the reconstruction loss and the KL divergence loss. Minimizing the ELBO ensures that the model learns to reconstruct the data accurately while maintaining a well-structured latent space.\n",
    "\n",
    "The ELBO is defined as\n",
    "$$ \\text{ELBO} = \\text{Reconstruction Loss} + \\text{KL Divergence Loss} $$\n",
    "\n",
    "### Training the Model\n",
    "To train the VAE, we will:\n",
    "1. Perform a forward pass through the model to obtain the reconstructed image, the mean and the log variance.\n",
    "2. Compute the reconstruction loss and the KL divergence loss.\n",
    "3. Combine the losses to compute the ELBO.\n",
    "4. Perform backpropagation and update the model parameters."
   ]
  },
  {
   "cell_type": "code",
   "execution_count": 8,
   "metadata": {},
   "outputs": [
    {
     "name": "stderr",
     "output_type": "stream",
     "text": [
      " 10%|█         | 1/10 [00:11<01:41, 11.27s/it]"
     ]
    },
    {
     "name": "stdout",
     "output_type": "stream",
     "text": [
      "Epoch 1/10, Loss: 0.2642818093299866\n"
     ]
    },
    {
     "name": "stderr",
     "output_type": "stream",
     "text": [
      " 20%|██        | 2/10 [00:22<01:31, 11.47s/it]"
     ]
    },
    {
     "name": "stdout",
     "output_type": "stream",
     "text": [
      "Epoch 2/10, Loss: 0.25183552503585815\n"
     ]
    },
    {
     "name": "stderr",
     "output_type": "stream",
     "text": [
      " 30%|███       | 3/10 [00:34<01:21, 11.64s/it]"
     ]
    },
    {
     "name": "stdout",
     "output_type": "stream",
     "text": [
      "Epoch 3/10, Loss: 0.25196757912635803\n"
     ]
    },
    {
     "name": "stderr",
     "output_type": "stream",
     "text": [
      " 40%|████      | 4/10 [00:46<01:09, 11.63s/it]"
     ]
    },
    {
     "name": "stdout",
     "output_type": "stream",
     "text": [
      "Epoch 4/10, Loss: 0.2419157773256302\n"
     ]
    },
    {
     "name": "stderr",
     "output_type": "stream",
     "text": [
      " 50%|█████     | 5/10 [00:58<00:58, 11.80s/it]"
     ]
    },
    {
     "name": "stdout",
     "output_type": "stream",
     "text": [
      "Epoch 5/10, Loss: 0.23961837589740753\n"
     ]
    },
    {
     "name": "stderr",
     "output_type": "stream",
     "text": [
      " 60%|██████    | 6/10 [01:10<00:47, 11.91s/it]"
     ]
    },
    {
     "name": "stdout",
     "output_type": "stream",
     "text": [
      "Epoch 6/10, Loss: 0.2388753592967987\n"
     ]
    },
    {
     "name": "stderr",
     "output_type": "stream",
     "text": [
      " 70%|███████   | 7/10 [01:22<00:35, 11.99s/it]"
     ]
    },
    {
     "name": "stdout",
     "output_type": "stream",
     "text": [
      "Epoch 7/10, Loss: 0.21600781381130219\n"
     ]
    },
    {
     "name": "stderr",
     "output_type": "stream",
     "text": [
      " 80%|████████  | 8/10 [01:34<00:23, 11.94s/it]"
     ]
    },
    {
     "name": "stdout",
     "output_type": "stream",
     "text": [
      "Epoch 8/10, Loss: 0.2224147617816925\n"
     ]
    },
    {
     "name": "stderr",
     "output_type": "stream",
     "text": [
      " 90%|█████████ | 9/10 [01:45<00:11, 11.66s/it]"
     ]
    },
    {
     "name": "stdout",
     "output_type": "stream",
     "text": [
      "Epoch 9/10, Loss: 0.21938548982143402\n"
     ]
    },
    {
     "name": "stderr",
     "output_type": "stream",
     "text": [
      "100%|██████████| 10/10 [01:56<00:00, 11.67s/it]"
     ]
    },
    {
     "name": "stdout",
     "output_type": "stream",
     "text": [
      "Epoch 10/10, Loss: 0.21723750233650208\n"
     ]
    },
    {
     "name": "stderr",
     "output_type": "stream",
     "text": [
      "\n"
     ]
    }
   ],
   "source": [
    "def kl_loss(mu, logvar):\n",
    "    '''\n",
    "    Compute the KL divergence loss.\n",
    "    Args:\n",
    "        mu: torch.Tensor: The mean of the latent space.\n",
    "        logvar: torch.Tensor: The log variance of the latent space.\n",
    "    Returns:\n",
    "        torch.Tensor: The KL divergence loss.\n",
    "    '''\n",
    "    kl_loss = 0.5 * torch.sum(torch.exp(logvar) + mu ** 2 - 1 - logvar, dim = 1)\n",
    "    return kl_loss.mean()\n",
    "\n",
    "def vae_loss(X, X_hat, mu, logvar, kl_weight=0.01):\n",
    "    '''\n",
    "    Compute the VAE loss.\n",
    "    Args:\n",
    "        X: torch.Tensor: The input features.\n",
    "        X_hat: torch.Tensor: The reconstructed features.\n",
    "        mu: torch.Tensor: The mean of the latent space.\n",
    "        logvar: torch.Tensor: The log variance of the latent space.\n",
    "    Returns:\n",
    "        torch.Tensor: The VAE loss.\n",
    "    '''\n",
    "    return nn.MSELoss()(X, X_hat) + kl_weight*kl_loss(mu, logvar)\n",
    "\n",
    "def train_vae(vae, dataloader, epochs=10, lr=0.001):\n",
    "    '''\n",
    "    Train a VAE.\n",
    "    Args:\n",
    "        vae: VariationalAutoEncoder: The VAE to train.\n",
    "        dataloader: DataLoader: The DataLoader for the dataset.\n",
    "        epochs: int: The number of epochs to train for.\n",
    "        lr: float: The learning rate to use.\n",
    "    '''\n",
    "    optimizer = torch.optim.Adam(vae.parameters(), lr=lr)\n",
    "    for epoch in trange(epochs):\n",
    "        for X, _ in dataloader:\n",
    "            optimizer.zero_grad()\n",
    "            X_hat, mu, logvar = vae(X)\n",
    "            loss = vae_loss(X, X_hat, mu, logvar, kl_weight=0.01)\n",
    "            loss.backward()\n",
    "            optimizer.step()\n",
    "        print(f'Epoch {epoch+1}/{epochs}, Loss: {loss.item()}')\n",
    "\n",
    "# Create the VAE and train it.\n",
    "vae = VariationalAutoEncoder(latent_dim=16)\n",
    "train_vae(vae, train_dataloader, epochs=10, lr=0.001)"
   ]
  },
  {
   "cell_type": "markdown",
   "metadata": {},
   "source": [
    "### Step 4: Sampling from the VAE\n",
    "\n",
    "In this step, we will sample new data from the trained VAE model. Sampling involves generating new latent vectors from the learned latent space and passing them through the decoder to produce new data samples.\n",
    "\n",
    "#### Sampling Process\n",
    "1. **Generate Latent Vectors**: Sample random vectors from a standard normal distribution. These vectors represent points in the latent space.\n",
    "2. **Decode Latent Vectors**: Pass the sampled latent vectors through the decoder to generate new data samples.\n",
    "\n",
    "By following this process, we can generate new data samples that are similar to the training data but not identical, demonstrating the generative capabilities of the VAE."
   ]
  },
  {
   "cell_type": "code",
   "execution_count": 9,
   "metadata": {},
   "outputs": [
    {
     "data": {
      "image/png": "[encoded data removed]",
      "text/plain": [
       "<Figure size 600x600 with 1 Axes>"
      ]
     },
     "metadata": {},
     "output_type": "display_data"
    }
   ],
   "source": [
    "@torch.no_grad()\n",
    "def sample_vae(vae, n_samples=16):\n",
    "    '''\n",
    "    Sample from a VAE.\n",
    "    Args:\n",
    "        vae: VariationalAutoEncoder: The VAE to sample from.\n",
    "        n_samples: int: The number of samples to generate.\n",
    "    Returns:\n",
    "        torch.Tensor: The generated samples.\n",
    "    '''\n",
    "    vae.eval()\n",
    "    z = torch.randn(n_samples, vae.latent_dim)\n",
    "    samples = vae.decoder(z)\n",
    "    return samples\n",
    "\n",
    "samples = sample_vae(vae)\n",
    "fig = plt.figure(figsize=(6, 6))\n",
    "plot_dataset(samples, title='Samples from the VAE')"
   ]
  },
  {
   "cell_type": "markdown",
   "metadata": {},
   "source": [
    "## Generative Adversarial Networks"
   ]
  },
  {
   "cell_type": "markdown",
   "metadata": {},
   "source": [
    "### Step 5: Using a Single Digit for GAN Training\n",
    "\n",
    "To make the training process of the GAN faster, we will use only one digit from the MNIST dataset. This will reduce the complexity of the data and allow the GAN to focus on generating variations of a single digit.\n",
    "\n",
    "#### Selecting a Single Digit\n",
    "We will filter the MNIST dataset to include only images of a specific digit (e.g., digit '0'). This will create a smaller and more focused dataset for training the GAN."
   ]
  },
  {
   "cell_type": "code",
   "execution_count": 27,
   "metadata": {},
   "outputs": [
    {
     "data": {
      "image/png": "[encoded data removed]",
      "text/plain": [
       "<Figure size 600x600 with 1 Axes>"
      ]
     },
     "metadata": {},
     "output_type": "display_data"
    }
   ],
   "source": [
    "transform = transforms.Compose([\n",
    "    transforms.ToTensor(),\n",
    "    transforms.Resize((14, 14), interpolation=0),\n",
    "    transforms.Normalize((0.5,), (0.5,)),\n",
    "    transforms.Lambda(lambda x: x.view(-1))\n",
    "])\n",
    "\n",
    "train_dataset = datasets.MNIST(\n",
    "    root='./data', \n",
    "    train=True,\n",
    "    download=True, \n",
    "    transform=transform\n",
    ")\n",
    "\n",
    "# lets use ibky the digit 5\n",
    "train_dataset.data = train_dataset.data[train_dataset.targets == 5]\n",
    "\n",
    "train_dataloader = DataLoader(\n",
    "    train_dataset, \n",
    "    batch_size=128,\n",
    "    shuffle=True, \n",
    "    num_workers=0\n",
    ")\n",
    "\n",
    "# Plot images from the dataset\n",
    "X, _ = next(iter(train_dataloader))\n",
    "fig = plt.figure(figsize=(6, 6))\n",
    "plot_dataset(X, title='MNIST Digit 5 Dataset')"
   ]
  },
  {
   "cell_type": "markdown",
   "metadata": {},
   "source": [
    "### Step 6: Building the Generator and Discriminator of the GAN\n",
    "\n",
    "In this step, we will build the generator and discriminator models for the GAN. The generator will create fake data samples from random noise, while the discriminator will classify data samples as real or fake.\n",
    "\n",
    "#### Generator\n",
    "The generator takes a random noise vector as input and transforms it into a data sample that resembles the real data. It typically consists of several layers of transposed convolutions or fully connected layers. The final activation function used in the generator is usually a **Tanh** function when the goal is image generation. This activation function scales the output to a range between -1 and 1, which helps in stabilizing the training process and ensuring that the generated data has similar properties to the real data.\n",
    "\n",
    "#### Discriminator\n",
    "The discriminator takes a data sample as input and outputs a probability indicating whether the sample is real or fake. It typically consists of several layers of convolutions or fully connected layers. The final activation function used in the discriminator is usually a **Sigmoid** function. This activation function outputs a probability between 0 and 1, which is suitable for binary classification tasks where the goal is to distinguish between real and fake samples.\n",
    "\n",
    "By defining these models with appropriate final activation functions, we can ensure that the generator produces realistic data samples and the discriminator effectively distinguishes between real and fake samples."
   ]
  },
  {
   "cell_type": "code",
   "execution_count": 24,
   "metadata": {},
   "outputs": [],
   "source": [
    "class Block(nn.Module):\n",
    "    def __init__(self, in_features, out_features, normalize=True):\n",
    "        '''\n",
    "        Create a block of an MLP.\n",
    "        Args:\n",
    "            in_features: int: The number of input features.\n",
    "            out_features: int: The number of output features.\n",
    "            normalize: bool: Whether to apply batch normalization.\n",
    "        '''\n",
    "        super().__init__()\n",
    "        layers = [nn.Linear(in_features, out_features)]\n",
    "        if normalize:\n",
    "            layers.append(nn.BatchNorm1d(out_features, 0.8))\n",
    "        layers.append(nn.LeakyReLU(0.2, inplace=True))\n",
    "        self.block = nn.Sequential(*layers)\n",
    "\n",
    "    def forward(self, X):\n",
    "        '''\n",
    "        Forward pass of the model.\n",
    "        Args:\n",
    "            X: torch.Tensor: The input features.\n",
    "        Returns:\n",
    "            torch.Tensor: The output features.\n",
    "        '''\n",
    "        return self.block(X)\n",
    "\n",
    "class Generator(nn.Module):\n",
    "    def __init__(self, image_size=14, latent_dim=8):\n",
    "        '''\n",
    "        Create an MLP to generate samples from a latent space.\n",
    "        Args:\n",
    "            image_size: int: The size of the images.\n",
    "            latent_dim: int: The dimensionality of the latent space.\n",
    "        '''\n",
    "        super().__init__()\n",
    "\n",
    "        \n",
    "        self.model = nn.Sequential(\n",
    "            Block(latent_dim, latent_dim*2, normalize=False),\n",
    "            Block(latent_dim*2, latent_dim*4),\n",
    "            Block(latent_dim*4, latent_dim*8),\n",
    "            Block(latent_dim*8, latent_dim*16),\n",
    "            nn.Linear(latent_dim*16, image_size*image_size),\n",
    "            nn.Tanh()\n",
    "        )\n",
    "\n",
    "        self.latent_dim = latent_dim\n",
    "\n",
    "    def forward(self, X):\n",
    "        '''\n",
    "        Forward pass of the model.\n",
    "        Args:\n",
    "            X: torch.Tensor: The input features.\n",
    "        Returns:\n",
    "            torch.Tensor: The generated samples.\n",
    "        '''\n",
    "        X = self.model(X)\n",
    "        return X\n",
    "    \n",
    "class Discriminator(nn.Module):\n",
    "    def __init__(self, image_size=14):\n",
    "        '''\n",
    "        Create an MLP to discriminate between real and generated samples.\n",
    "        Args:\n",
    "            image_size: int: The size of the images.\n",
    "        '''\n",
    "        super().__init__()\n",
    "\n",
    "        self.model = nn.Sequential(\n",
    "            Block(image_size*image_size, 256, normalize=False),\n",
    "            Block(256, 128, normalize=False),\n",
    "            nn.Linear(128, 1),\n",
    "            nn.Sigmoid(),\n",
    "        )\n",
    "\n",
    "    def forward(self, X):\n",
    "        '''\n",
    "        Forward pass of the model.\n",
    "        Args:\n",
    "            X: torch.Tensor: The input features.\n",
    "        Returns:\n",
    "            torch.Tensor: The discriminator's prediction.\n",
    "        '''\n",
    "        X = self.model(X)\n",
    "        return X"
   ]
  },
  {
   "cell_type": "markdown",
   "metadata": {},
   "source": [
    "### Step 7: Adversarial Loss, Discriminator Loss, and GAN Training\n",
    "\n",
    "In this step, we will describe the loss functions used to train the GAN and the overall training process.\n",
    "\n",
    "#### Adversarial Loss\n",
    "The adversarial loss is used to train the generator. The goal of the generator is to produce data samples that are indistinguishable from real data, thereby \"fooling\" the discriminator. The adversarial loss for the generator is defined as the negative log probability of the discriminator classifying the generated samples as real:\n",
    "\n",
    "$$ \\mathcal{L}_{\\text{G}} = -\\log(D(G(z))) $$\n",
    "\n",
    "where:\n",
    "- $ G(z) $ is the generated data sample from the generator $ G $ given a random noise vector $ z $.\n",
    "- $ D $ is the discriminator.\n",
    "\n",
    "#### Discriminator Loss\n",
    "The discriminator's goal is to correctly classify real data samples as real and generated data samples as fake. The discriminator loss is a combination of the loss for real samples and the loss for fake samples:\n",
    "\n",
    "$$ \\mathcal{L}_{\\text{D}} = -\\left[\\log(D(x)) + \\log(1 - D(G(z)))\\right] $$\n",
    "\n",
    "where:\n",
    "- $ x $ is a real data sample.\n",
    "- $ G(z) $ is the generated data sample from the generator $ G $ given a random noise vector $ z $.\n",
    "- $ D(x) $ is the discriminator's probability that $ x $ is real.\n",
    "- $ D(G(z)) $ is the discriminator's probability that the generated sample $ G(z) $ is real.\n",
    "\n",
    "#### GAN Training\n",
    "The training process for the GAN involves alternating between updating the discriminator and the generator:\n",
    "\n",
    "1. **Update the Generator**:\n",
    "   - Sample a batch of random noise vectors $ z $ and generate fake data samples $ G(z) $.\n",
    "   - Compute the adversarial loss $ \\mathcal{L}_{\\text{G}} $ for the generator.\n",
    "   - Perform backpropagation and update the generator's parameters to minimize $ \\mathcal{L}_{\\text{G}} $.\n",
    "\n",
    "2. **Update the Discriminator**:\n",
    "   - Sample a batch of real data samples $ x $ from the dataset.\n",
    "   - Sample a batch of random noise vectors $ z $ and generate fake data samples $ G(z) $.\n",
    "   - Compute the discriminator loss $ \\mathcal{L}_{\\text{D}} $ using both real and fake samples.\n",
    "   - Perform backpropagation and update the discriminator's parameters to minimize $ \\mathcal{L}_{\\text{D}} $."
   ]
  },
  {
   "cell_type": "code",
   "execution_count": 30,
   "metadata": {},
   "outputs": [
    {
     "name": "stderr",
     "output_type": "stream",
     "text": [
      "Epochs: 100%|██████████| 100/100 [01:59<00:00,  1.19s/it]\n"
     ]
    }
   ],
   "source": [
    "def adversarial_loss(y_hat):\n",
    "    '''\n",
    "    Compute the adversarial loss.\n",
    "    Args:\n",
    "        y_hat: torch.Tensor: The discriminator's prediction.\n",
    "    Returns:\n",
    "        torch.Tensor: The adversarial loss.\n",
    "    '''\n",
    "    return nn.BCELoss()(y_hat, torch.ones_like(y_hat))\n",
    "\n",
    "def discriminator_loss(y_real, y_fake):\n",
    "    '''\n",
    "    Compute the discriminator loss.\n",
    "    Args:\n",
    "        y_real: torch.Tensor: The discriminator's prediction for real samples.\n",
    "        y_fake: torch.Tensor: The discriminator's prediction for fake samples.\n",
    "    Returns:\n",
    "        torch.Tensor: The discriminator loss.\n",
    "    '''\n",
    "    return (nn.BCELoss()(y_real, torch.ones_like(y_real)) + nn.BCELoss()(y_fake, torch.zeros_like(y_fake)))/2\n",
    "\n",
    "def training_loop(generator, discriminator, dataloader, epochs=10, lr=1e-3):\n",
    "    '''\n",
    "    Train a GAN.\n",
    "    Args:\n",
    "        generator: Generator: The generator model.\n",
    "        discriminator: Discriminator: The discriminator model.\n",
    "        dataloader: DataLoader: The DataLoader for the dataset.\n",
    "        epochs: int: The number of epochs to train for.\n",
    "        lr: float: The learning rate to use.\n",
    "    '''\n",
    "    generator_optimizer = torch.optim.Adam(generator.parameters(), lr=lr)\n",
    "    discriminator_optimizer = torch.optim.Adam(discriminator.parameters(), lr=lr)\n",
    "    for epoch in trange(epochs, desc='Epochs'):\n",
    "        for X, _ in dataloader:\n",
    "\n",
    "            # Train the generator\n",
    "            generator_optimizer.zero_grad()\n",
    "            z = torch.randn(X.size(0), generator.latent_dim)\n",
    "            X_fake = generator(z)\n",
    "            y_fake = discriminator(X_fake)\n",
    "            g_loss = adversarial_loss(y_fake)\n",
    "            g_loss.backward()\n",
    "            generator_optimizer.step()\n",
    "\n",
    "            # Train the discriminator\n",
    "            discriminator_optimizer.zero_grad()\n",
    "            y_real = discriminator(X)\n",
    "            y_fake = discriminator(X_fake.detach())\n",
    "            d_loss = discriminator_loss(y_real, y_fake)\n",
    "            d_loss.backward()\n",
    "            discriminator_optimizer.step()\n",
    "\n",
    "generator = Generator(latent_dim=16)\n",
    "discriminator = Discriminator()\n",
    "training_loop(generator, discriminator, train_dataloader, epochs=100, lr=1e-3)\n"
   ]
  },
  {
   "cell_type": "markdown",
   "metadata": {},
   "source": [
    "### Step 8: Sampling from the GAN\n",
    "\n",
    "In this step, we will sample new data from the trained GAN model. Sampling involves generating new data samples using the generator, which has learned to produce realistic data from random noise vectors.\n",
    "\n",
    "#### Sampling Process\n",
    "1. **Generate Random Noise Vectors**: Sample random noise vectors from a standard normal distribution. These vectors serve as the input to the generator.\n",
    "2. **Generate Data Samples**: Pass the random noise vectors through the generator to produce new data samples."
   ]
  },
  {
   "cell_type": "code",
   "execution_count": 43,
   "metadata": {},
   "outputs": [
    {
     "data": {
      "image/png": "[encoded data removed]",
      "text/plain": [
       "<Figure size 600x600 with 1 Axes>"
      ]
     },
     "metadata": {},
     "output_type": "display_data"
    }
   ],
   "source": [
    "@torch.no_grad()\n",
    "def sample(generator, n_samples):\n",
    "    '''\n",
    "    Sample from the generator.\n",
    "    Args:\n",
    "        generator: nn.Module: The generator model.\n",
    "        n_samples: int: The number of samples to generate.\n",
    "    '''\n",
    "    generator.eval()\n",
    "    noise = torch.randn(n_samples, generator.latent_dim)\n",
    "    generated = generator(noise)\n",
    "    return generated\n",
    "\n",
    "# Sample from the generator and plot the results.\n",
    "fig = plt.figure(figsize=(6, 6))\n",
    "samples = sample(generator, n_samples=24)\n",
    "plot_dataset(samples, title='Generated samples')"
   ]
  }
 ],
 "metadata": {
  "kernelspec": {
   "display_name": ".venv",
   "language": "python",
   "name": "python3"
  },
  "language_info": {
   "codemirror_mode": {
    "name": "ipython",
    "version": 3
   },
   "file_extension": ".py",
   "mimetype": "text/x-python",
   "name": "python",
   "nbconvert_exporter": "python",
   "pygments_lexer": "ipython3",
   "version": "3.9.19"
  }
 },
 "nbformat": 4,
 "nbformat_minor": 2
}
